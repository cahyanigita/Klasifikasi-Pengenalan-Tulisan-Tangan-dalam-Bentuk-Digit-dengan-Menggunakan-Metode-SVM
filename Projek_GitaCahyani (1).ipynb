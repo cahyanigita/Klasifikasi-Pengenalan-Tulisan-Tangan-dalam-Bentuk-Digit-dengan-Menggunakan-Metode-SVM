{
 "cells": [
  {
   "cell_type": "markdown",
   "metadata": {},
   "source": [
    "# Klasifikasi Pengenalan Tulisan Tangan Dalam Bentuk Digit Dengan Metode Support Vector Machine"
   ]
  },
  {
   "cell_type": "markdown",
   "metadata": {},
   "source": [
    "Nama   : Gita Cahyani\n",
    "\n",
    "NIM    : 09011281924147\n",
    "\n",
    "Kelas  : SK5B\n"
   ]
  },
  {
   "cell_type": "code",
   "execution_count": 8,
   "metadata": {
    "scrolled": true
   },
   "outputs": [
    {
     "data": {
      "text/plain": [
       "(70000, 784)"
      ]
     },
     "execution_count": 8,
     "metadata": {},
     "output_type": "execute_result"
    }
   ],
   "source": [
    "from sklearn.datasets import fetch_openml\n",
    "#berguna untuk mendownload datasets MNIST langsung secara online\n",
    "X, y = fetch_openml('mnist_784', data_home='./dataset/mnist', return_X_y=True)\n",
    "#Pada bagian ini kita memasukkan nama dari dataset yang akan di download melalui fetch_openml, data set yang akan di download adalah mnist_784\n",
    "#Setelah nama dari dataset dimasukkan maka selanjutnya adalah melakukan spesifikasi lokasi pada lokal mesin untuk mendownload dataset (./dataset/mnist) \n",
    "#Kemudian pisahkan pictures dan target labelnya dengan memasukkan parameter return X, y yang berniali True\n",
    "#Variable X berguna untuk menampung sekumpulan nilai pictures sedangkan variable y berguna untuk menampung nilai dari target labelnya\n",
    "X.shape\n",
    "#Digunakan untuk menampilkan dimensi dari data picturesnya"
   ]
  },
  {
   "cell_type": "markdown",
   "metadata": {},
   "source": [
    "Nilai 70000 merupakan nilai pada jumlah baris, sedangkan nilai 784 merupakan nilai pada jumlah kolomnya"
   ]
  },
  {
   "cell_type": "code",
   "execution_count": 9,
   "metadata": {
    "scrolled": true
   },
   "outputs": [
    {
     "data": {
      "image/png": "[encoded data removed]",
      "text/plain": [
       "<Figure size 432x288 with 15 Axes>"
      ]
     },
     "metadata": {
      "needs_background": "light"
     },
     "output_type": "display_data"
    }
   ],
   "source": [
    "import matplotlib.pyplot as plt\n",
    "#Digunakan untuk menampilkan data yang berbentuk gambar\n",
    "import matplotlib.cm as cm\n",
    "#cm merepresentasikan color map\n",
    "\n",
    "pos = 1\n",
    "for data in X[:15]:\n",
    "#Digunakan untuk melakukan perulangan pada 15 data pertama pada variable X\n",
    "    plt.subplot(1, 15, pos)\n",
    "    plt.imshow(data.reshape((28, 28)),\n",
    "    #data gambar yang ada akan di reshape ke dalam ukuran 28*28 piksel\n",
    "              cmap=cm.Greys_r)\n",
    "    plt.axis('off')\n",
    "    pos += 1\n",
    "\n",
    "\n",
    "plt.show()"
   ]
  },
  {
   "cell_type": "markdown",
   "metadata": {},
   "source": [
    "output diatas merupakan hasil keluaran pada 15 gambar data tulisan tangan pertama dalam bentuk pictures"
   ]
  },
  {
   "cell_type": "code",
   "execution_count": 10,
   "metadata": {},
   "outputs": [
    {
     "data": {
      "text/plain": [
       "array(['5', '0', '4', '1', '9', '2', '1', '3', '1', '4', '3', '5', '3',\n",
       "       '6', '1'], dtype=object)"
      ]
     },
     "execution_count": 10,
     "metadata": {},
     "output_type": "execute_result"
    }
   ],
   "source": [
    "y[:15]\n",
    "#digunakan untuk menampilkan 15 label yang berkorelasi pada 15 data pertama "
   ]
  },
  {
   "cell_type": "markdown",
   "metadata": {},
   "source": [
    "output diatas merupakan nilai dari target label, dan dikarenakan target label ini berupa angka maka jumlah classnya akan ada 10 yaitu mulai dari 0-9"
   ]
  },
  {
   "cell_type": "code",
   "execution_count": 11,
   "metadata": {},
   "outputs": [],
   "source": [
    "X_train = X[:10000]\n",
    "#Data X training yang digunakan merupakan 10000 dataset pertama\n",
    "y_train = y[:10000]\n",
    "#Data y training yang digunakan merupakan 10000 dataset pertama\n",
    "X_test = X[69000:]\n",
    "#Data X yang digunakan untuk melakukan testing merupakan 1000 data terakhir\n",
    "y_test = y[69000:]\n",
    "#Data y yang digunakan untuk melakukan testing merupakan 1000 data terakhir"
   ]
  },
  {
   "cell_type": "markdown",
   "metadata": {},
   "source": [
    "Setelah dataset terbagi kedalam data training dan data testing, maka langkah selanjutnya adalah dengan melakuakan klasifikasi dengan menggunakan metode Support Vector Machine (SVM)"
   ]
  },
  {
   "cell_type": "code",
   "execution_count": 12,
   "metadata": {},
   "outputs": [
    {
     "data": {
      "text/plain": [
       "SVC(random_state=0)"
      ]
     },
     "execution_count": 12,
     "metadata": {},
     "output_type": "execute_result"
    }
   ],
   "source": [
    "from sklearn.svm import SVC\n",
    "#SVC (Support Vector Classifier), penginportan modul ini berguna untuk melakukan training model yang ada\n",
    "\n",
    "model = SVC (random_state=0)\n",
    "#digunakan untuk membentuk objek pada model (SVC) kemudian sertakan parameter pada model yaitu random_state yang bernilai 0\n",
    "model.fit(X_train, y_train)\n",
    "#digunakan untuk melakukan training pada model yang sudah terbentuk dengan memanggil method fit dan kemudian menyertakan training setnya"
   ]
  },
  {
   "cell_type": "markdown",
   "metadata": {},
   "source": [
    "setelah model selesai di training maka selanjutnya adalah melakukan evaluasi performa dengan menggunakan kode program di bawah ini"
   ]
  },
  {
   "cell_type": "code",
   "execution_count": 13,
   "metadata": {},
   "outputs": [
    {
     "name": "stdout",
     "output_type": "stream",
     "text": [
      "              precision    recall  f1-score   support\n",
      "\n",
      "           0       0.94      0.98      0.96       102\n",
      "           1       1.00      1.00      1.00       119\n",
      "           2       0.90      0.91      0.90        99\n",
      "           3       0.99      0.98      0.99       102\n",
      "           4       0.94      0.98      0.96        92\n",
      "           5       0.97      0.89      0.93        85\n",
      "           6       0.95      0.98      0.97       102\n",
      "           7       0.96      0.95      0.95       115\n",
      "           8       0.96      0.99      0.97        94\n",
      "           9       0.99      0.92      0.95        90\n",
      "\n",
      "    accuracy                           0.96      1000\n",
      "   macro avg       0.96      0.96      0.96      1000\n",
      "weighted avg       0.96      0.96      0.96      1000\n",
      "\n"
     ]
    }
   ],
   "source": [
    "from sklearn.metrics import classification_report\n",
    "#digunakan untuk melakukan evaluasi performa\n",
    "\n",
    "y_pred = model.predict(X_test)\n",
    "#testing set akan digunakan untuk melakuakn prediksi dan hasilnya akan ditampung ke dalam variabel y_pred\n",
    "print(classification_report(y_test, y_pred))\n",
    "#hasil dari nilai y_pred akan di bandingkan dengan nilai y_test, kemudian akan dicetak nilai dari classification_report nya"
   ]
  },
  {
   "cell_type": "markdown",
   "metadata": {},
   "source": [
    "Dari output program yang ditampilkan diatas kita bisa elihat nilai dari presisi, recall, f1-score, serta akurasi dari masing masing class yang ada secara keseluruhan"
   ]
  },
  {
   "cell_type": "markdown",
   "metadata": {},
   "source": [
    "## Hyperparameter Tuning dengan GridSearchCV\n",
    "Hyperparameter adalah parameter yang digunakan untuk mengatur proses training pada suatu model, sedangkan proses untuk mencari nilai komposisi optimum dari proses training disebut dengan Hyperparameter Tuning"
   ]
  },
  {
   "cell_type": "code",
   "execution_count": 14,
   "metadata": {},
   "outputs": [
    {
     "name": "stdout",
     "output_type": "stream",
     "text": [
      "Fitting 5 folds for each of 60 candidates, totalling 300 fits\n"
     ]
    },
    {
     "name": "stderr",
     "output_type": "stream",
     "text": [
      "[Parallel(n_jobs=4)]: Using backend LokyBackend with 4 concurrent workers.\n",
      "[Parallel(n_jobs=4)]: Done  42 tasks      | elapsed: 18.9min\n",
      "[Parallel(n_jobs=4)]: Done 192 tasks      | elapsed: 89.8min\n",
      "[Parallel(n_jobs=4)]: Done 300 out of 300 | elapsed: 150.8min finished\n"
     ]
    },
    {
     "name": "stdout",
     "output_type": "stream",
     "text": [
      "Best Score : 0.9667999999999999\n"
     ]
    }
   ],
   "source": [
    "#from sklearn.model_selection import GridSeacrhCV\n",
    "from sklearn.model_selection import learning_curve, GridSearchCV\n",
    "\n",
    "parameters = {\n",
    "    'kernel' : ['rbf','poly','sigmoid'],\n",
    "    'C' : [0.5, 1, 10, 100],\n",
    "    'gamma' : ['scale', 1, 0.1, 0.01, 0.001]\n",
    "}\n",
    "#Kode program parameters diatas dilakukan untuk menspesifikasikan sekumpulan parameter beserta pilihan nilai yang akan dikombinasikan\n",
    "#Parameter yang digunakan adalah kernel, C, dan gamma dengan nilai parameter yang telah dituliskan pada kode program\n",
    "\n",
    "grid_search = GridSearchCV(estimator=SVC(random_state=0),\n",
    "                          param_grid=parameters,\n",
    "                          n_jobs=4,\n",
    "                           #number of jobs di set sebagai 2 artinya proses akan dijalankan secara parlel pada 2 Thread pada prosesor yang dimiliki \n",
    "                          verbose=1,\n",
    "                          scoring='accuracy')\n",
    "#Kode program diatas digunakan untuk mencari kombinasi nilai terbaik yang nantinya akan diterapkan terhadap objek suppor vector classifier pada kasus ini\n",
    "\n",
    "grid_search.fit(X_train, y_train)\n",
    "#Lakukan pemanggilan method fit melalui objek grid_search\n",
    "\n",
    "print(f'Best Score : {grid_search.best_score_}')"
   ]
  },
  {
   "cell_type": "code",
   "execution_count": 15,
   "metadata": {
    "scrolled": true
   },
   "outputs": [
    {
     "name": "stdout",
     "output_type": "stream",
     "text": [
      "Best Score: 0.9667999999999999\n",
      "Best Parameters:\n",
      "\tkernel:rbf\n",
      "\tC:100\n",
      "\tgamma:scale\n"
     ]
    }
   ],
   "source": [
    "print(f'Best Score: {grid_search.best_score_}')\n",
    "#digunakan untuk menampilkan nilai score terbaik\n",
    "\n",
    "best_params = grid_search.best_estimator_.get_params()\n",
    "print(f'Best Parameters:')\n",
    "for param in parameters:\n",
    "    print(f'\\t{param}:{best_params[param]}')\n",
    "#digunakan untuk menampilkan nilai parameter terbaik yang akan di tampung ke dalam variabel best_params"
   ]
  },
  {
   "cell_type": "code",
   "execution_count": 17,
   "metadata": {},
   "outputs": [
    {
     "name": "stdout",
     "output_type": "stream",
     "text": [
      "              precision    recall  f1-score   support\n",
      "\n",
      "           0       0.95      0.98      0.97       102\n",
      "           1       1.00      1.00      1.00       119\n",
      "           2       0.91      0.95      0.93        99\n",
      "           3       0.98      1.00      0.99       102\n",
      "           4       0.96      0.99      0.97        92\n",
      "           5       0.96      0.92      0.94        85\n",
      "           6       0.97      0.98      0.98       102\n",
      "           7       0.96      0.94      0.95       115\n",
      "           8       0.98      0.99      0.98        94\n",
      "           9       1.00      0.92      0.96        90\n",
      "\n",
      "    accuracy                           0.97      1000\n",
      "   macro avg       0.97      0.97      0.97      1000\n",
      "weighted avg       0.97      0.97      0.97      1000\n",
      "\n"
     ]
    }
   ],
   "source": [
    "#melakukan evaluasi performa dari model yang baru di training\n",
    "y_pred = grid_search.predict(X_test)\n",
    "\n",
    "print(classification_report(y_test, y_pred))"
   ]
  },
  {
   "cell_type": "code",
   "execution_count": null,
   "metadata": {},
   "outputs": [],
   "source": []
  },
  {
   "cell_type": "code",
   "execution_count": null,
   "metadata": {},
   "outputs": [],
   "source": []
  }
 ],
 "metadata": {
  "kernelspec": {
   "display_name": "Python 3",
   "language": "python",
   "name": "python3"
  },
  "language_info": {
   "codemirror_mode": {
    "name": "ipython",
    "version": 3
   },
   "file_extension": ".py",
   "mimetype": "text/x-python",
   "name": "python",
   "nbconvert_exporter": "python",
   "pygments_lexer": "ipython3",
   "version": "3.8.5"
  }
 },
 "nbformat": 4,
 "nbformat_minor": 4
}
